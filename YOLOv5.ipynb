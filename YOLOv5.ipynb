{
  "nbformat": 4,
  "nbformat_minor": 0,
  "metadata": {
    "colab": {
      "provenance": []
    },
    "kernelspec": {
      "name": "python3",
      "display_name": "Python 3"
    },
    "language_info": {
      "name": "python"
    }
  },
  "cells": [
    {
      "cell_type": "code",
      "execution_count": null,
      "metadata": {
        "id": "KnQeS5BEw_sW"
      },
      "outputs": [],
      "source": [
        "!git clone https://github.com/ultralytics/yolov5"
      ]
    },
    {
      "cell_type": "code",
      "source": [
        "!pip install -r /content/yolov5/requirements.txt"
      ],
      "metadata": {
        "id": "8sgjpUHTxDxM"
      },
      "execution_count": null,
      "outputs": []
    },
    {
      "cell_type": "code",
      "source": [
        "!pip install --upgrade dataset-tools"
      ],
      "metadata": {
        "id": "dtRDm-0nJt3q"
      },
      "execution_count": null,
      "outputs": []
    },
    {
      "cell_type": "code",
      "source": [
        "import dataset_tools as dtools\n",
        "\n",
        "dtools.download(dataset='Indoor Objects Detection', dst_dir='~/dataset-ninja/')"
      ],
      "metadata": {
        "colab": {
          "base_uri": "https://localhost:8080/",
          "height": 70
        },
        "id": "i07H2p2fK1xG",
        "outputId": "e96b1e65-7c7e-4aa1-cc8b-f0c0af97e43a"
      },
      "execution_count": 1,
      "outputs": [
        {
          "output_type": "stream",
          "name": "stderr",
          "text": [
            "Downloading 'Indoor Objects Detection': 100%|██████████| 378M/378M [00:06<00:00, 57.0MB/s]\n",
            "Unpacking 'indoor-objects-detection.tar': 100%|██████████| 2711/2711 [00:03<00:00, 785.21file/s]\n"
          ]
        },
        {
          "output_type": "execute_result",
          "data": {
            "text/plain": [
              "'/root/dataset-ninja/indoor-objects-detection'"
            ],
            "application/vnd.google.colaboratory.intrinsic+json": {
              "type": "string"
            }
          },
          "metadata": {},
          "execution_count": 1
        }
      ]
    },
    {
      "cell_type": "code",
      "source": [
        "\n",
        "import os\n",
        "import torch\n",
        "\n",
        "model = torch.hub.load(\"ultralytics/yolov5\", \"yolov5s\")\n",
        "\n",
        "directory_path = \"/content/\"\n",
        "\n",
        "files = os.listdir(directory_path)"
      ],
      "metadata": {
        "colab": {
          "base_uri": "https://localhost:8080/"
        },
        "id": "jkVr7s8wLIuR",
        "outputId": "20aff3e9-bd7c-448e-b647-819caa0a435d"
      },
      "execution_count": 10,
      "outputs": [
        {
          "output_type": "stream",
          "name": "stderr",
          "text": [
            "Using cache found in /root/.cache/torch/hub/ultralytics_yolov5_master\n",
            "YOLOv5 🚀 2024-3-12 Python-3.10.12 torch-2.1.0+cu121 CPU\n",
            "\n",
            "Fusing layers... \n",
            "YOLOv5s summary: 213 layers, 7225885 parameters, 0 gradients, 16.4 GFLOPs\n",
            "Adding AutoShape... \n"
          ]
        }
      ]
    },
    {
      "cell_type": "code",
      "source": [
        "import time\n",
        "results = []\n",
        "strt = time.time()\n",
        "count = 0\n",
        "for file in files:\n",
        "  if file.endswith(\".png\"):\n",
        "    count += 1\n",
        "    result = model(file)\n",
        "    results.append(result)\n",
        "end = time.time()\n"
      ],
      "metadata": {
        "id": "YuVKbOh5LwhP"
      },
      "execution_count": 23,
      "outputs": []
    },
    {
      "cell_type": "code",
      "source": [
        "# prompt: Calulate total time of execution in sec and average time\n",
        "\n",
        "total_time = end - strt\n",
        "average_time = total_time / count\n",
        "\n",
        "print(\"Total time of execution:\", total_time, \"seconds\")\n",
        "print(\"Average time per image:\", average_time, \"seconds\")\n"
      ],
      "metadata": {
        "colab": {
          "base_uri": "https://localhost:8080/"
        },
        "id": "q9lgDbe8Q9rn",
        "outputId": "9a63660a-ee4f-4b1b-da69-e121054b65fe"
      },
      "execution_count": 24,
      "outputs": [
        {
          "output_type": "stream",
          "name": "stdout",
          "text": [
            "Total time of execution: 38.2503616809845 seconds\n",
            "Average time per image: 0.3574800157101355 seconds\n"
          ]
        }
      ]
    }
  ]
}